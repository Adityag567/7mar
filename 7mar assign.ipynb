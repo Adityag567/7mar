{
 "cells": [
  {
   "cell_type": "markdown",
   "id": "cea3e50b-9d99-499f-9640-90e7f5152c7e",
   "metadata": {},
   "source": [
    "s1=\"this is my string\""
   ]
  },
  {
   "cell_type": "code",
   "execution_count": null,
   "id": "6b1fe94d-97cb-43d5-95c9-fb85cb7d8ab5",
   "metadata": {},
   "outputs": [],
   "source": [
    "Q1. What are the three measures of central tendency?"
   ]
  },
  {
   "cell_type": "code",
   "execution_count": null,
   "id": "da643d57-c2a4-47b3-8a50-fcdc5c7cebde",
   "metadata": {},
   "outputs": [],
   "source": [
    "There are three main measures of central tendency: mode. median. mean."
   ]
  },
  {
   "cell_type": "code",
   "execution_count": null,
   "id": "a6449bcf-54a3-40a8-8a41-d65ff8cc6403",
   "metadata": {},
   "outputs": [],
   "source": [
    "Q2. What is the difference between the mean, median, and mode? How are they used to measure the\n",
    "central tendency of a dataset?"
   ]
  },
  {
   "cell_type": "code",
   "execution_count": null,
   "id": "a803bee7-b15d-47cf-9a3a-3fe1012392e8",
   "metadata": {},
   "outputs": [],
   "source": [
    "he difference between mean, median and mode are:\n",
    "\n",
    "Mean is the average value of the given observations\n",
    "Median is the middle value of the given observations\n",
    "Mode is the most repeated value in the given observation\n",
    "\n",
    "\n",
    "The central tendency measure is defined as the number used to represent the center or middle of a set of data values.\n",
    "The three commonly used measures of central tendency are the mean, median, and mode. \n",
    "A statistic that tells us how the data values are dispersed or spread out is called the measure of dispersion."
   ]
  },
  {
   "cell_type": "code",
   "execution_count": null,
   "id": "17255b96-17fa-47bc-acb0-64a1fe2ce3ed",
   "metadata": {},
   "outputs": [],
   "source": [
    "Q3. Measure the three measures of central tendency for the given height data:"
   ]
  },
  {
   "cell_type": "code",
   "execution_count": null,
   "id": "448601ca-2063-4c31-937f-d0651dca7508",
   "metadata": {},
   "outputs": [],
   "source": [
    "The mean, median, and mode are known as the measures of central tendency."
   ]
  },
  {
   "cell_type": "code",
   "execution_count": null,
   "id": "87308077-0661-4322-9415-0f079b625186",
   "metadata": {},
   "outputs": [],
   "source": [
    "Q4. Find the standard deviation for the given data:\n",
    "\n",
    "weight = [178,177,176,177,178.2,178,175,179,180,175,178.9,176.2,177,172.5,178,176.5]"
   ]
  },
  {
   "cell_type": "code",
   "execution_count": 1,
   "id": "03297238-f8c3-4aaa-ada2-1696ad8b51b6",
   "metadata": {},
   "outputs": [],
   "source": [
    "import numpy as np\n",
    "weight = [178,177,176,177,178.2,178,175,179,180,175,178.9,176.2,177,172.5,178,176.5]"
   ]
  },
  {
   "cell_type": "code",
   "execution_count": 2,
   "id": "203ffd20-3bb6-400f-8767-03287068eba7",
   "metadata": {},
   "outputs": [
    {
     "data": {
      "text/plain": [
       "1.7885814036548633"
      ]
     },
     "execution_count": 2,
     "metadata": {},
     "output_type": "execute_result"
    }
   ],
   "source": [
    "np.std(weight)"
   ]
  },
  {
   "cell_type": "code",
   "execution_count": null,
   "id": "c2b592c6-cd71-48a9-83ce-0f84025df6cb",
   "metadata": {},
   "outputs": [],
   "source": []
  },
  {
   "cell_type": "code",
   "execution_count": null,
   "id": "7019d519-0a34-4eb0-94bf-96a579cb3c82",
   "metadata": {},
   "outputs": [],
   "source": [
    "Q5. How are measures of dispersion such as range, variance, and standard deviation used to describe\n",
    "the spread of a dataset? Provide an example."
   ]
  },
  {
   "cell_type": "code",
   "execution_count": 3,
   "id": "caf4ead8-56b6-49ab-943e-1c2fdd976d0a",
   "metadata": {},
   "outputs": [
    {
     "data": {
      "text/plain": [
       "range(0, 10)"
      ]
     },
     "execution_count": 3,
     "metadata": {},
     "output_type": "execute_result"
    }
   ],
   "source": [
    "range(0,10)"
   ]
  },
  {
   "cell_type": "code",
   "execution_count": 7,
   "id": "c6c1ff66-db48-4619-a1e2-8b46b467c951",
   "metadata": {},
   "outputs": [
    {
     "data": {
      "text/plain": [
       "122.48979591836735"
      ]
     },
     "execution_count": 7,
     "metadata": {},
     "output_type": "execute_result"
    }
   ],
   "source": [
    "age = [23,45,33,43,56,32,53]\n",
    "np.var(age)"
   ]
  },
  {
   "cell_type": "code",
   "execution_count": null,
   "id": "11aaec83-47fb-48e5-8e54-ed9b07a11db0",
   "metadata": {},
   "outputs": [],
   "source": [
    "np.std(age) #standard devv\n"
   ]
  },
  {
   "cell_type": "code",
   "execution_count": null,
   "id": "3dcb09f9-5373-4b0d-9a24-63be64d66f39",
   "metadata": {},
   "outputs": [],
   "source": []
  },
  {
   "cell_type": "code",
   "execution_count": null,
   "id": "87d25102-3c72-48d7-b0c9-39c053667d0b",
   "metadata": {},
   "outputs": [],
   "source": [
    "Q6. What is a Venn diagram?"
   ]
  },
  {
   "cell_type": "code",
   "execution_count": null,
   "id": "4ea57d06-fb62-482b-919a-28faa6be864c",
   "metadata": {},
   "outputs": [],
   "source": [
    "A Venn diagram is an illustration that uses circles to show the commonalities and differences between things \n",
    "or groups of things"
   ]
  },
  {
   "cell_type": "code",
   "execution_count": null,
   "id": "2059e5d1-b260-4a2d-ba17-bfa8f55e941c",
   "metadata": {},
   "outputs": [],
   "source": [
    "Q7. For the two given sets A = (2,3,4,5,6,7) & B = (0,2,6,8,10). Find:\n",
    "\n",
    "(i) \tA B\n",
    "\n",
    "(ii)\tA ⋃ B"
   ]
  },
  {
   "cell_type": "code",
   "execution_count": null,
   "id": "9de07e89-831d-49aa-a4f1-db091debc283",
   "metadata": {},
   "outputs": [],
   "source": [
    "A intersection B = (2,6)\n",
    "A union B= 2,3,4,5,6,7,8,10"
   ]
  },
  {
   "cell_type": "code",
   "execution_count": null,
   "id": "42b4d035-50f4-492e-8e68-b759220aa1d6",
   "metadata": {},
   "outputs": [],
   "source": [
    "Q8. What do you understand about skewness in data?"
   ]
  },
  {
   "cell_type": "code",
   "execution_count": null,
   "id": "06a6a709-13b4-4157-9103-2e076cc16830",
   "metadata": {},
   "outputs": [],
   "source": [
    "Skewness is a measurement of the distortion of symmetrical distribution or asymmetry in a data set.\n",
    "Skewness is demonstrated on a bell curve when data points are not distributed symmetrically to the left and right sides of \n",
    "the median on a bell curve."
   ]
  },
  {
   "cell_type": "code",
   "execution_count": null,
   "id": "41d5dc46-7598-4f57-b9f3-252f18600450",
   "metadata": {},
   "outputs": [],
   "source": [
    "Q9. If a data is right skewed then what will be the position of median with respect to mean?"
   ]
  },
  {
   "cell_type": "code",
   "execution_count": null,
   "id": "9dc40ae2-9ca0-4ae9-b890-f7ce40aa1f65",
   "metadata": {},
   "outputs": [],
   "source": [
    " If the distribution of data is skewed to the right, the mode is often less than the median, which is less than the mean."
   ]
  },
  {
   "cell_type": "code",
   "execution_count": null,
   "id": "d2b04af5-9e4b-40cb-a938-10ae81b5755b",
   "metadata": {},
   "outputs": [],
   "source": [
    "Q10. Explain the difference between covariance and correlation. How are these measures used in\n",
    "statistical analysis?"
   ]
  },
  {
   "cell_type": "code",
   "execution_count": null,
   "id": "7a3ff312-4247-46b0-b625-f88725fa76e5",
   "metadata": {},
   "outputs": [],
   "source": [
    "Explain the difference between covariance and correlation. How are these measures used in\n",
    "statistical analysis?"
   ]
  },
  {
   "cell_type": "code",
   "execution_count": null,
   "id": "77f92330-cf6c-4eba-9f5c-a9c1336cdc0b",
   "metadata": {},
   "outputs": [],
   "source": [
    "Q11. What is the formula for calculating the sample mean? Provide an example calculation for a\n",
    "dataset."
   ]
  },
  {
   "cell_type": "code",
   "execution_count": 4,
   "id": "8b090602-34b4-4d63-8428-6add7ce114ac",
   "metadata": {},
   "outputs": [
    {
     "ename": "SyntaxError",
     "evalue": "invalid syntax (1820133886.py, line 1)",
     "output_type": "error",
     "traceback": [
      "\u001b[0;36m  Cell \u001b[0;32mIn[4], line 1\u001b[0;36m\u001b[0m\n\u001b[0;31m    The general formula for calculating the sample mean is given by x̄ = ( Σ xi ) / n. Here,\u001b[0m\n\u001b[0m        ^\u001b[0m\n\u001b[0;31mSyntaxError\u001b[0m\u001b[0;31m:\u001b[0m invalid syntax\n"
     ]
    }
   ],
   "source": [
    "The general formula for calculating the sample mean is given by x̄ = ( Σ xi ) / n. Here,\n",
    "x̄ represents the sample mean, xi refers all X sample values and n stands for the number of sample terms in the data set.\n",
    "\n",
    "np.mean(age)"
   ]
  },
  {
   "cell_type": "code",
   "execution_count": 8,
   "id": "6753dc46-e667-40e1-a247-b6c8da45ead5",
   "metadata": {},
   "outputs": [
    {
     "data": {
      "text/plain": [
       "40.714285714285715"
      ]
     },
     "execution_count": 8,
     "metadata": {},
     "output_type": "execute_result"
    }
   ],
   "source": [
    "np.mean(age)\n"
   ]
  },
  {
   "cell_type": "code",
   "execution_count": 6,
   "id": "c508c701-4552-462f-bbb2-a53c9c8e0fb5",
   "metadata": {},
   "outputs": [
    {
     "name": "stdout",
     "output_type": "stream",
     "text": [
      "Object `tendency` not found.\n"
     ]
    }
   ],
   "source": [
    "Q12. For a normal distribution data what is the relationship between its measure of central tendency?"
   ]
  },
  {
   "cell_type": "code",
   "execution_count": null,
   "id": "2dac24f4-88c0-49c5-a098-30bdf7f9dca5",
   "metadata": {},
   "outputs": [],
   "source": [
    "Any normal distribution has a graph that is perfectly symmetric about a vertical line through its peak. Therefore, all measures of central tendency (most commonly, the mean, median, and mode) give the same answer: the x -value of the peak"
   ]
  },
  {
   "cell_type": "code",
   "execution_count": null,
   "id": "2b96bae8-4c35-4f2a-8f5c-9c11db9ab45b",
   "metadata": {},
   "outputs": [],
   "source": [
    "Q13. How is covariance different from correlation?"
   ]
  },
  {
   "cell_type": "code",
   "execution_count": null,
   "id": "e7062987-0aa7-4f33-9412-dc7030a3dd3d",
   "metadata": {},
   "outputs": [],
   "source": [
    ". Covariance indicates the direction of the linear relationship between variables. Correlation measures both the strength and direction of the linear relationship between two variables."
   ]
  },
  {
   "cell_type": "code",
   "execution_count": null,
   "id": "a1654664-91d3-444e-84c8-f2407c27e5e4",
   "metadata": {},
   "outputs": [],
   "source": [
    "Q14. How do outliers affect measures of central tendency and dispersion? Provide an example."
   ]
  },
  {
   "cell_type": "code",
   "execution_count": null,
   "id": "493a61e1-f31a-4517-8766-c3a1b1e40e1b",
   "metadata": {},
   "outputs": [],
   "source": [
    " outliers can distort the measures of central tendency (mean, median, mode) and measures of dispersion (range, standard deviation, variance). It is important to be aware of outliers and consider their potential influence when interpreting and analyzing data."
   ]
  },
  {
   "cell_type": "code",
   "execution_count": null,
   "id": "a0ac6971-2a98-4882-acec-022061b99db6",
   "metadata": {},
   "outputs": [],
   "source": [
    "s1.len"
   ]
  }
 ],
 "metadata": {
  "kernelspec": {
   "display_name": "Python 3 (ipykernel)",
   "language": "python",
   "name": "python3"
  },
  "language_info": {
   "codemirror_mode": {
    "name": "ipython",
    "version": 3
   },
   "file_extension": ".py",
   "mimetype": "text/x-python",
   "name": "python",
   "nbconvert_exporter": "python",
   "pygments_lexer": "ipython3",
   "version": "3.10.8"
  }
 },
 "nbformat": 4,
 "nbformat_minor": 5
}
